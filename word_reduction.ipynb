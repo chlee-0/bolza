{
 "cells": [
  {
   "cell_type": "code",
   "execution_count": 1,
   "id": "96d0b74f-81e8-4915-bff7-e1f86369fe0f",
   "metadata": {},
   "outputs": [],
   "source": [
    "from bolza import reduce2"
   ]
  },
  {
   "cell_type": "code",
   "execution_count": 2,
   "id": "b696a380-3f19-43ad-bf47-6d11c4a07cd8",
   "metadata": {
    "tags": []
   },
   "outputs": [
    {
     "data": {
      "text/plain": [
       "'0361'"
      ]
     },
     "execution_count": 2,
     "metadata": {},
     "output_type": "execute_result"
    }
   ],
   "source": [
    "reduce2('1630')"
   ]
  },
  {
   "cell_type": "code",
   "execution_count": 3,
   "id": "b7f792d1-63d2-4114-8a19-c3d1ba5e4dd4",
   "metadata": {},
   "outputs": [
    {
     "data": {
      "text/plain": [
       "'016316'"
      ]
     },
     "execution_count": 3,
     "metadata": {},
     "output_type": "execute_result"
    }
   ],
   "source": [
    "reduce2('016316')"
   ]
  },
  {
   "cell_type": "code",
   "execution_count": null,
   "id": "945681ad-e731-42d8-a9be-99e5b4915f3e",
   "metadata": {},
   "outputs": [],
   "source": []
  }
 ],
 "metadata": {
  "kernelspec": {
   "display_name": "Python 3 (ipykernel)",
   "language": "python",
   "name": "python3"
  },
  "language_info": {
   "codemirror_mode": {
    "name": "ipython",
    "version": 3
   },
   "file_extension": ".py",
   "mimetype": "text/x-python",
   "name": "python",
   "nbconvert_exporter": "python",
   "pygments_lexer": "ipython3",
   "version": "3.7.1"
  }
 },
 "nbformat": 4,
 "nbformat_minor": 5
}
