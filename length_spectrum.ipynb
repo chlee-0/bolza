{
 "cells": [
  {
   "cell_type": "code",
   "execution_count": 2,
   "id": "71910a85-a05e-47cf-bbe8-f78991c62a7a",
   "metadata": {},
   "outputs": [],
   "source": [
    "from bolza import ls_full_dict, ls_load"
   ]
  },
  {
   "cell_type": "code",
   "execution_count": 3,
   "id": "3d2e72a3-eb86-4248-b9c9-98a87868bcc9",
   "metadata": {},
   "outputs": [
    {
     "data": {
      "text/plain": [
       "206796230"
      ]
     },
     "execution_count": 3,
     "metadata": {},
     "output_type": "execute_result"
    }
   ],
   "source": [
    "temp_dict = ls_full_dict()\n",
    "count = 0\n",
    "for itm in temp_dict.values():\n",
    "    count+=itm\n",
    "count"
   ]
  },
  {
   "cell_type": "code",
   "execution_count": 10,
   "id": "cc95d06c-8ce3-4d76-b221-deb5ec977310",
   "metadata": {},
   "outputs": [
    {
     "data": {
      "text/plain": [
       "378552"
      ]
     },
     "execution_count": 10,
     "metadata": {},
     "output_type": "execute_result"
    }
   ],
   "source": [
    "len(temp_dict)"
   ]
  },
  {
   "cell_type": "code",
   "execution_count": 6,
   "id": "91a3b81a-af7d-4baa-b9cf-d1036f99b00f",
   "metadata": {},
   "outputs": [
    {
     "data": {
      "text/plain": [
       "{(25, 17): 8,\n",
       " (21, 15): 16,\n",
       " (13, 9): 16,\n",
       " (5, 3): 16,\n",
       " (15, 11): 16,\n",
       " (7, 5): 32,\n",
       " (1, 1): 8}"
      ]
     },
     "execution_count": 6,
     "metadata": {},
     "output_type": "execute_result"
    }
   ],
   "source": [
    "ls_load('ls_bolza_3.txt')"
   ]
  },
  {
   "cell_type": "code",
   "execution_count": null,
   "id": "c0a1da47-8e40-413d-8704-88f6cad97c60",
   "metadata": {},
   "outputs": [],
   "source": []
  }
 ],
 "metadata": {
  "kernelspec": {
   "display_name": "Python 3 (ipykernel)",
   "language": "python",
   "name": "python3"
  },
  "language_info": {
   "codemirror_mode": {
    "name": "ipython",
    "version": 3
   },
   "file_extension": ".py",
   "mimetype": "text/x-python",
   "name": "python",
   "nbconvert_exporter": "python",
   "pygments_lexer": "ipython3",
   "version": "3.7.1"
  }
 },
 "nbformat": 4,
 "nbformat_minor": 5
}
