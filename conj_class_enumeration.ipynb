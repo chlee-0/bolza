{
 "cells": [
  {
   "cell_type": "code",
   "execution_count": 1,
   "id": "bb7ef4c4-0d9a-41f7-905e-8e64925c2310",
   "metadata": {
    "tags": []
   },
   "outputs": [],
   "source": [
    "from bolza import find_conj_classes2, find_conj_classes2_parallel, alphabets, conj_count"
   ]
  },
  {
   "cell_type": "code",
   "execution_count": 2,
   "id": "37a75b25-4927-4186-884f-7716afb31f9c",
   "metadata": {},
   "outputs": [
    {
     "name": "stdout",
     "output_type": "stream",
     "text": [
      "working on:  1 \n",
      "1 : time of execution 0.0008802413940429688\n",
      "1 ['0', '1', '2', '3', '4', '5', '6', '7']\n",
      "working on:  2 \n",
      "2 : time of execution 0.007431983947753906\n",
      "2 ['00', '01', '02', '03', '05', '06', '07', '11', '12', '13', '14', '16', '17', '22', '23', '24', '25', '27', '33', '34', '35', '36', '44', '45', '46', '47', '55', '56', '57', '66', '67', '77']\n",
      "working on:  3 \n",
      "3 : time of execution 0.042610883712768555\n",
      "3 ['000', '001', '002', '003', '005', '006', '007', '011', '012', '013', '016', '017', '021', '022', '023', '025', '027', '031', '032', '033', '035', '036', '055', '056', '057', '061', '065', '066', '067', '071', '072', '075', '076', '077', '111', '112', '113', '114', '116', '117', '122', '123', '124', '127', '132', '133', '134', '136', '142', '143', '144', '146', '147', '166', '167', '172', '176', '177', '222', '223', '224', '225', '227', '233', '234', '235', '243', '244', '245', '247', '253', '254', '255', '257', '277', '333', '334', '335', '336', '344', '345', '346', '354', '355', '356', '364', '365', '366', '444', '445', '446', '447', '455', '456', '457', '465', '466', '467', '475', '476', '477', '555', '556', '557', '566', '567', '576', '577', '666', '667', '677', '777']\n"
     ]
    }
   ],
   "source": [
    "for n in range(1,4):\n",
    "    print(n, find_conj_classes2(n, return_list = True, write_file = True))"
   ]
  },
  {
   "cell_type": "code",
   "execution_count": 3,
   "id": "d264c72f-8b29-4d9f-a155-b25b68f389ef",
   "metadata": {},
   "outputs": [
    {
     "name": "stdout",
     "output_type": "stream",
     "text": [
      "working on:  6 35\n",
      "working on:  6 33\n",
      "working on:  6 12\n",
      "working on:  6working on:   00working on: \n",
      "working on: 6working on:    6 34\n",
      "03 \n",
      "6 57\n",
      "6 56\n",
      "6 : time of execution 0.58547616004943856 \n",
      ": working on: time of execution6 24 61.07072114944458 \n",
      " :46\n",
      " time of execution 0.7182571887969971\n",
      "working on:  6\n",
      "6262working on:    \n",
      "638:  time of execution 1.3332359790802002\n",
      "\n",
      "24645\n",
      "working on: \n",
      "246 \n",
      "6 36\n",
      " : time of execution 1.3292670249938965\n",
      "working on: 283 \n",
      "6 27\n",
      "6 6:  6time of execution : time of execution 1.202873945236206\n",
      " 1.1472141742706299\n",
      ": working on: working on:   6 25\n",
      "time of execution126\n",
      " 61.128169059753418\n",
      " 23157working on: \n",
      " 211\n",
      "6\n",
      " 02\n",
      "6 6:  time of execution:  time of execution64.129069805145264\n",
      " :working on:   time of execution 1.9813337326049805\n",
      " working on: 6 01\n",
      "2.862652063369751927 6\n",
      " \n",
      "44317\n",
      "\n",
      "working on:  6 07\n",
      "521\n",
      "66 : time of execution 2.5716071128845215\n",
      "working on:   6 55\n",
      ": 461time of execution \n",
      "2.339851140975952\n",
      "working on:  4836\n",
      " 056 : time of execution 1.1466350555419922\n",
      "\n",
      "6working on: 190 \n",
      ": time of execution 6  470.6515750885009766\n",
      "\n",
      "working on:  654 77\n",
      "\n",
      "6 : time of execution6 6  :0.8717420101165771:\n",
      "  time of executiontime of execution 0.7195467948913574 7.229082107543945\n",
      "\n",
      "working on: 97 6working on:  6working on: 22 \n",
      "  \n",
      ":14526\n",
      "1\n",
      "  6 11\n",
      "13time of execution \n",
      "7.529794216156006\n",
      "working on:  17806\n",
      " 66\n",
      "6 : time of execution 0.5814499855041504\n",
      "working on:  6 17\n",
      "9\n",
      "6 : time of execution 65.500123023986816 :\n",
      " time of execution 7.5164773464202886\n",
      "working on: 1206\n",
      " 6 14\n",
      " working on: 1579:\n",
      "  6time of execution  16\n",
      "2.9774818420410156\n",
      "working on:  6528 \n",
      "06\n",
      "6 : time of execution 4.4234769344329836 \n",
      ": time of execution 8.105226039886475\n",
      "working on:  8636 67\n",
      "\n",
      "1675\n",
      "6 : time of execution 3.6670038700103766\n",
      "6 : time of execution 6 7.267327785491943 \n",
      "::  time of execution time of execution662 \n",
      "0.4356496334075928\n",
      "5.4621791839599611311\n",
      "4\n",
      "\n",
      "1000\n",
      "6 : time of execution 3.1481969356536865\n",
      "6 :674\n",
      " time of execution 3.436534881591797\n",
      "904\n",
      "6 : time of execution 3.069866180419922\n",
      "1299\n"
     ]
    }
   ],
   "source": [
    "find_conj_classes2_parallel(6, alphabets(2))"
   ]
  },
  {
   "cell_type": "code",
   "execution_count": 4,
   "id": "29f81d9b-a478-43c8-9783-7dfbac1f067d",
   "metadata": {},
   "outputs": [
    {
     "data": {
      "text/plain": [
       "19344"
      ]
     },
     "execution_count": 4,
     "metadata": {},
     "output_type": "execute_result"
    }
   ],
   "source": [
    "conj_count(6)"
   ]
  },
  {
   "cell_type": "code",
   "execution_count": null,
   "id": "8e747283-9882-4d2b-b21f-a389748c0269",
   "metadata": {},
   "outputs": [],
   "source": []
  }
 ],
 "metadata": {
  "kernelspec": {
   "display_name": "Python 3 (ipykernel)",
   "language": "python",
   "name": "python3"
  },
  "language_info": {
   "codemirror_mode": {
    "name": "ipython",
    "version": 3
   },
   "file_extension": ".py",
   "mimetype": "text/x-python",
   "name": "python",
   "nbconvert_exporter": "python",
   "pygments_lexer": "ipython3",
   "version": "3.7.1"
  }
 },
 "nbformat": 4,
 "nbformat_minor": 5
}
