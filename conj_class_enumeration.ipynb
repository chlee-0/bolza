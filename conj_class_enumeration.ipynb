{
 "cells": [
  {
   "cell_type": "code",
   "execution_count": 9,
   "id": "bb7ef4c4-0d9a-41f7-905e-8e64925c2310",
   "metadata": {
    "tags": []
   },
   "outputs": [],
   "source": [
    "from bolza import find_conj_classes2, find_conj_classes2_parallel, alphabets, conj_count"
   ]
  },
  {
   "cell_type": "code",
   "execution_count": 2,
   "id": "37a75b25-4927-4186-884f-7716afb31f9c",
   "metadata": {},
   "outputs": [
    {
     "name": "stdout",
     "output_type": "stream",
     "text": [
      "working on:  0 \n",
      "0 : time of execution 0.00012874603271484375\n",
      "0 1\n",
      "working on:  1 \n",
      "1 : time of execution 0.0001049041748046875\n",
      "1 8\n",
      "working on:  2 \n",
      "2 : time of execution 0.011245489120483398\n",
      "2 32\n",
      "working on:  3 \n",
      "3 : time of execution 0.06186318397521973\n",
      "3 112\n",
      "working on:  4 \n",
      "4 : time of execution 0.5857384204864502\n",
      "4 612\n",
      "working on:  5 \n",
      "5 : time of execution 4.270992994308472\n",
      "5 3320\n",
      "working on:  6 \n",
      "6 : time of execution 28.866184949874878\n",
      "6 19344\n",
      "working on:  7 \n",
      "7 : time of execution 217.2711853981018\n",
      "7 115304\n"
     ]
    }
   ],
   "source": [
    "for n in range(8):\n",
    "    print(n, find_conj_classes2(n))"
   ]
  },
  {
   "cell_type": "code",
   "execution_count": 5,
   "id": "d264c72f-8b29-4d9f-a155-b25b68f389ef",
   "metadata": {},
   "outputs": [
    {
     "name": "stdout",
     "output_type": "stream",
     "text": [
      "working on:  6 22\n",
      "working on:  6 66\n",
      "working on:  6 16\n",
      "working on:  6 working on:  27\n",
      "working on: 6 57\n",
      " working on:  6working on: 6 45  66  17\n",
      "46\n",
      ": \n",
      "time of execution 0.3042466640472412\n",
      "working on:  69\n",
      "6 56\n",
      " : time of execution 6 : time of execution 1.21248269081115720.7221453189849854\n",
      "\n",
      "working on: working on:  6 33157 6 00\n",
      "\n",
      "\n",
      "24\n",
      "6 : time of execution 0.7105748653411865\n",
      "working on:  6 38\n",
      "116\n",
      " : time of execution 1.790114164352417\n",
      "working on: 126\n",
      "6 : 6 time of execution 2.905217170715332\n",
      " 06\n",
      "working on:  6 23\n",
      "317\n",
      "6 : time of execution 3.301015615463257\n",
      "working on:  6 12\n",
      "662\n",
      "6 : time of execution6 : time of execution 4.724788188934326\n",
      "6working on:   : 528\n",
      "time of execution 4.40520977973938\n",
      " 3.0626168251037598\n",
      "working on: 2626 77\n",
      "\n",
      "working on:  6 67425\n",
      " \n",
      "6 6 : 67\n",
      "time of execution 0.8691422939300537\n",
      "working on:  6 14\n",
      "1\n",
      "6 :6  :time of execution 0.9592411518096924\n",
      " time of execution 4.075917720794678\n",
      "working on: 4\n",
      "working on:  6 47\n",
      " 483\n",
      "6 03\n",
      "6 : time of execution 4.015379190444946\n",
      "working on:  6 01\n",
      "461\n",
      "66 : time of execution  2.743476629257202\n",
      "working on: :97\n",
      " 6  time of execution02\n",
      " 6.952221155166626\n",
      "working on:  6 55\n",
      "6927\n",
      " : time of execution 9.459126234054565\n",
      "working on:  6 07\n",
      "1000\n",
      "6 : time of execution 7.324828386306763\n",
      "working on:  6 44\n",
      "904\n",
      "6 : time of execution 1.9862301349639893\n",
      "working on:  6 35\n",
      "546\n",
      " : time of execution 13.771810531616211\n",
      "6 working on:  6 1780\n",
      "05\n",
      ": time of execution 6 12.886463403701782\n",
      "working on:  6 361299\n",
      "\n",
      ": time of execution6  1.8434796333312988\n",
      "working on:  :2466  time of execution 2.971409320831299\n",
      "34\n",
      "working on: \n",
      "190\n",
      " 6 24\n",
      "6 : time of execution 9.882757902145386\n",
      "working on:  6 13\n",
      "6 :6 : time of execution 1452\n",
      "2.2906486988067627\n",
      " time of execution 283\n",
      "2.435922622680664\n",
      "211\n",
      "6 : time of execution 3.657391309738159\n",
      "6 521: time of execution 9.01644253730774\n",
      "\n",
      "12066\n",
      " : time of execution 12.815117597579956\n",
      "1675\n",
      "6 : time of execution 4.225473642349243\n",
      "863\n",
      "6 : time of execution 11.366753816604614\n",
      "1579\n",
      "6 : time of execution 7.132887363433838\n",
      "1311\n"
     ]
    }
   ],
   "source": [
    "find_conj_classes2_parallel(6, alphabets(2))"
   ]
  },
  {
   "cell_type": "code",
   "execution_count": 7,
   "id": "29f81d9b-a478-43c8-9783-7dfbac1f067d",
   "metadata": {},
   "outputs": [
    {
     "data": {
      "text/plain": [
       "19344"
      ]
     },
     "execution_count": 7,
     "metadata": {},
     "output_type": "execute_result"
    }
   ],
   "source": [
    "conj_count(6)"
   ]
  },
  {
   "cell_type": "code",
   "execution_count": 11,
   "id": "6c4d55fd-f9f5-4778-8dc5-40ab1b46a78d",
   "metadata": {},
   "outputs": [
    {
     "name": "stdout",
     "output_type": "stream",
     "text": [
      "working on:  3 01\n",
      "3 : time of execution 0.0024929046630859375\n",
      "working on:  3 33\n",
      "3 : time of execution 0.0016345977783203125\n",
      "working on:  3 13\n",
      "3 : time of execution 0.0019783973693847656\n",
      "working on:  3 46\n",
      "3 : time of execution 0.0021314620971679688\n",
      "working on:  3 34\n",
      "3 : time of execution 0.0016336441040039062\n",
      "working on:  3 55\n",
      "working on:  3 57\n",
      "3 : time of execution 0.0011119842529296875\n",
      "working on:  3 06\n",
      "3working on:  3 27\n",
      "3 : time of execution 0.0019474029541015625\n",
      "3  : time of execution 0.003175973892211914\n",
      "working on:  3 05\n",
      "3working on:  3 77\n",
      "3 : time of execution 0.0003883838653564453\n",
      "working on:  3 24\n",
      "3: time of execution 0.010814428329467773\n",
      " : time of execution 0.0022428035736083984\n",
      " : time of execution 0.002871274948120117\n",
      "working on:  3 23\n",
      "3 : time of execution 0.0014922618865966797\n",
      "working on:  3 35\n",
      "3 : time of execution 0.0014269351959228516\n",
      "working on:  3 47\n",
      "3 working on:  3 45\n",
      "3 : time of execution 0.001435995101928711\n",
      "working on:  3 36\n",
      "3 : time of execution 0.0014181137084960938\n",
      "working on:  3 67\n",
      "3 : time of execution 0.0007357597351074219\n",
      ": time of execution 0.001707315444946289\n",
      "working on: working on: working on:  3  3 00\n",
      "working on:  3 07\n",
      "14\n",
      "3 :working on:  3 17\n",
      "3 3 03\n",
      "working on:  3 11\n",
      "3 : time of execution 0.009813547134399414\n",
      " working on:  3 25\n",
      "33 : time of execution 0.006293773651123047\n",
      "working on: 3 :3\n",
      "1\n",
      "working on: time of execution 0.003032207489013672\n",
      "working on: 43 time of execution 0.016207218170166016\n",
      "  \n",
      "3 22\n",
      " : working on:  3 16\n",
      " : time of execution 0.006953001022338867\n",
      ": time of execution 0.005604743957519531\n",
      "working on: time of execution 3\n",
      "3\n",
      "1\n",
      "3working on:  3 02\n",
      "0.015069007873535156\n",
      " 3 56\n",
      "3 3 : time of execution 0.005323648452758789\n",
      "working on:  3 12\n",
      "33 \n",
      "3\n",
      "4\n",
      "4\n",
      "3\n",
      "5\n",
      "3\n",
      "1\n",
      "4\n",
      "3\n",
      "2\n",
      "3\n",
      "6\n",
      "5\n",
      "3\n",
      "4\n",
      "7\n",
      "5\n",
      "5\n",
      " 3 66\n",
      " : 3 : time of execution 0.017156600952148438\n",
      ": time of execution 0.010007143020629883\n",
      "3 : time of execution 0.01255178451538086\n",
      "5\n",
      "2\n",
      "time of execution 0.0020682811737060547\n",
      ":2\n",
      "4\n",
      "2\n",
      " time of execution 0.0023686885833740234\n",
      "5\n",
      " 3 44\n",
      "3 : time of execution 0.002403736114501953\n",
      "4\n"
     ]
    },
    {
     "data": {
      "text/plain": [
       "112"
      ]
     },
     "execution_count": 11,
     "metadata": {},
     "output_type": "execute_result"
    }
   ],
   "source": [
    "find_conj_classes2_parallel(3, alphabets(2))\n",
    "conj_count(3)"
   ]
  },
  {
   "cell_type": "code",
   "execution_count": null,
   "id": "8e747283-9882-4d2b-b21f-a389748c0269",
   "metadata": {},
   "outputs": [],
   "source": []
  }
 ],
 "metadata": {
  "kernelspec": {
   "display_name": "Python 3 (ipykernel)",
   "language": "python",
   "name": "python3"
  },
  "language_info": {
   "codemirror_mode": {
    "name": "ipython",
    "version": 3
   },
   "file_extension": ".py",
   "mimetype": "text/x-python",
   "name": "python",
   "nbconvert_exporter": "python",
   "pygments_lexer": "ipython3",
   "version": "3.9.7"
  }
 },
 "nbformat": 4,
 "nbformat_minor": 5
}
