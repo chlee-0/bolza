{
 "cells": [
  {
   "cell_type": "code",
   "execution_count": 1,
   "id": "e91572fe-d9d3-4dde-bcb5-ac36b16b9acf",
   "metadata": {},
   "outputs": [],
   "source": [
    "from bolza import enumgroup2, exe_enumgroup2"
   ]
  },
  {
   "cell_type": "code",
   "execution_count": 2,
   "id": "cb4f0c34-3c89-4604-ba19-3cf4329d13f1",
   "metadata": {},
   "outputs": [
    {
     "name": "stdout",
     "output_type": "stream",
     "text": [
      "0 1\n",
      "1 8\n",
      "working on:  2\n",
      "2 : time for preprocessing 0.0\n",
      "1 0\n",
      "2 : time of execution 0.0013430118560791016\n",
      "number of new words 56\n",
      "2 56\n",
      "working on:  3\n",
      "3 : time for preprocessing 0.0\n",
      "21 0\n",
      "3 : time of execution 0.007437229156494141\n",
      "number of new words 392\n",
      "3 392\n",
      "working on:  4\n",
      "4 : time for preprocessing 9.5367431640625e-07\n",
      "054 0\n",
      "4 : time of execution 0.03680896759033203\n",
      "number of new words 2736\n",
      "4 2736\n"
     ]
    }
   ],
   "source": [
    "for n in [0,1,2,3,4]:\n",
    "    print(n, len(exe_enumgroup2(n)))"
   ]
  },
  {
   "cell_type": "code",
   "execution_count": 3,
   "id": "2a14c5b5-4d99-4717-b74c-f24a731a44fe",
   "metadata": {
    "tags": []
   },
   "outputs": [
    {
     "data": {
      "text/plain": [
       "{'00',\n",
       " '01',\n",
       " '02',\n",
       " '03',\n",
       " '05',\n",
       " '06',\n",
       " '07',\n",
       " '10',\n",
       " '11',\n",
       " '12',\n",
       " '13',\n",
       " '14',\n",
       " '16',\n",
       " '17',\n",
       " '20',\n",
       " '21',\n",
       " '22',\n",
       " '23',\n",
       " '24',\n",
       " '25',\n",
       " '27',\n",
       " '30',\n",
       " '31',\n",
       " '32',\n",
       " '33',\n",
       " '34',\n",
       " '35',\n",
       " '36',\n",
       " '41',\n",
       " '42',\n",
       " '43',\n",
       " '44',\n",
       " '45',\n",
       " '46',\n",
       " '47',\n",
       " '50',\n",
       " '52',\n",
       " '53',\n",
       " '54',\n",
       " '55',\n",
       " '56',\n",
       " '57',\n",
       " '60',\n",
       " '61',\n",
       " '63',\n",
       " '64',\n",
       " '65',\n",
       " '66',\n",
       " '67',\n",
       " '70',\n",
       " '71',\n",
       " '72',\n",
       " '74',\n",
       " '75',\n",
       " '76',\n",
       " '77'}"
      ]
     },
     "execution_count": 3,
     "metadata": {},
     "output_type": "execute_result"
    }
   ],
   "source": [
    "enumgroup2[2]"
   ]
  },
  {
   "cell_type": "code",
   "execution_count": null,
   "id": "932bbe46-f12d-4f7f-939f-613a4dfd9b76",
   "metadata": {},
   "outputs": [],
   "source": []
  }
 ],
 "metadata": {
  "kernelspec": {
   "display_name": "Python 3 (ipykernel)",
   "language": "python",
   "name": "python3"
  },
  "language_info": {
   "codemirror_mode": {
    "name": "ipython",
    "version": 3
   },
   "file_extension": ".py",
   "mimetype": "text/x-python",
   "name": "python",
   "nbconvert_exporter": "python",
   "pygments_lexer": "ipython3",
   "version": "3.7.1"
  }
 },
 "nbformat": 4,
 "nbformat_minor": 5
}
