{
 "cells": [
  {
   "cell_type": "code",
   "execution_count": 1,
   "id": "71910a85-a05e-47cf-bbe8-f78991c62a7a",
   "metadata": {},
   "outputs": [],
   "source": [
    "from bolza import ls_count, ls_load"
   ]
  },
  {
   "cell_type": "code",
   "execution_count": 2,
   "id": "3d2e72a3-eb86-4248-b9c9-98a87868bcc9",
   "metadata": {},
   "outputs": [
    {
     "name": "stdout",
     "output_type": "stream",
     "text": [
      "bolza_1.txt : time for processing 0.001161813735961914\n",
      "writing to ls_bolza_1.txt\n"
     ]
    },
    {
     "data": {
      "text/plain": [
       "{(1, 1): 8}"
      ]
     },
     "execution_count": 2,
     "metadata": {},
     "output_type": "execute_result"
    }
   ],
   "source": [
    "ls_count('bolza_1.txt', saveQ = True)"
   ]
  },
  {
   "cell_type": "code",
   "execution_count": 3,
   "id": "cc95d06c-8ce3-4d76-b221-deb5ec977310",
   "metadata": {
    "tags": []
   },
   "outputs": [
    {
     "name": "stdout",
     "output_type": "stream",
     "text": [
      "bolza_2.txt : time for processing 0.003484010696411133\n",
      "writing to ls_bolza_2.txt\n"
     ]
    },
    {
     "data": {
      "text/plain": [
       "{(5, 4): 8, (5, 3): 8, (3, 2): 8, (1, 1): 8}"
      ]
     },
     "execution_count": 3,
     "metadata": {},
     "output_type": "execute_result"
    }
   ],
   "source": [
    "ls_count('bolza_2.txt', saveQ = True)"
   ]
  },
  {
   "cell_type": "code",
   "execution_count": 4,
   "id": "2d214718-082d-4821-b6cd-4952b1452fd5",
   "metadata": {},
   "outputs": [
    {
     "name": "stdout",
     "output_type": "stream",
     "text": [
      "bolza_3.txt : time for processing 0.010191917419433594\n",
      "writing to ls_bolza_3.txt\n"
     ]
    },
    {
     "data": {
      "text/plain": [
       "{(25, 17): 8,\n",
       " (21, 15): 16,\n",
       " (13, 9): 16,\n",
       " (5, 3): 16,\n",
       " (15, 11): 16,\n",
       " (7, 5): 32,\n",
       " (1, 1): 8}"
      ]
     },
     "execution_count": 4,
     "metadata": {},
     "output_type": "execute_result"
    }
   ],
   "source": [
    "ls_count('bolza_3.txt', saveQ = True)"
   ]
  },
  {
   "cell_type": "code",
   "execution_count": 5,
   "id": "91a3b81a-af7d-4baa-b9cf-d1036f99b00f",
   "metadata": {},
   "outputs": [
    {
     "data": {
      "text/plain": [
       "{(25, 17): 8,\n",
       " (21, 15): 16,\n",
       " (13, 9): 16,\n",
       " (5, 3): 16,\n",
       " (15, 11): 16,\n",
       " (7, 5): 32,\n",
       " (1, 1): 8}"
      ]
     },
     "execution_count": 5,
     "metadata": {},
     "output_type": "execute_result"
    }
   ],
   "source": [
    "ls_load('ls_bolza_3.txt')"
   ]
  },
  {
   "cell_type": "code",
   "execution_count": null,
   "id": "c0a1da47-8e40-413d-8704-88f6cad97c60",
   "metadata": {},
   "outputs": [],
   "source": []
  }
 ],
 "metadata": {
  "kernelspec": {
   "display_name": "Python 3 (ipykernel)",
   "language": "python",
   "name": "python3"
  },
  "language_info": {
   "codemirror_mode": {
    "name": "ipython",
    "version": 3
   },
   "file_extension": ".py",
   "mimetype": "text/x-python",
   "name": "python",
   "nbconvert_exporter": "python",
   "pygments_lexer": "ipython3",
   "version": "3.7.1"
  }
 },
 "nbformat": 4,
 "nbformat_minor": 5
}
